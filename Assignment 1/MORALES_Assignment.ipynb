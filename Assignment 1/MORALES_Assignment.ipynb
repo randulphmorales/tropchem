{
 "cells": [
  {
   "cell_type": "markdown",
   "metadata": {},
   "source": [
    "# Assignment 1\n",
    "\n",
    "What is the concentration in molec /cm$^3 $ of 10 ppt of HO$_2$ ($\\chi_{HO_2}$ = 10 ppt) at 800 hPa?"
   ]
  },
  {
   "cell_type": "markdown",
   "metadata": {},
   "source": [
    "From the ideal gas law\n",
    "\\begin{equation}\n",
    "PV =nRT\n",
    "\\end{equation}\n",
    "where $R$ = 8.314 J mol$^{-1}$ K$^{-1}$.\n",
    "\n",
    "The ideal gas law for HO$_2$ with partial pressure is\n",
    "\\begin{equation}\n",
    "p_{HO_2}V = n_{HO_2}RT\n",
    "\\end{equation}\n",
    "\n",
    "From the above equation, the number of moles of HO$_2$ per unit volume is\n",
    "\n",
    "\\begin{equation}\n",
    "\\frac{n_{HO_2}}{V} = \\frac{p_{HO_2}}{RT}\n",
    "\\end{equation}\n",
    "\n",
    "The partial pressure $p_{HO_2}$ may be obtained as follows\n",
    "\n",
    "\\begin{equation}\n",
    "p_{HO_2} = \\chi_{HO_2}\\cdot p = 10 \\textsf{ ppt} \\cdot 80,000 \\textsf{ Pa} = 8x10^{-7} \\textsf{ Pa}\n",
    "\\end{equation}\n",
    "\n",
    "Multiplying the number of moles per cubic meter to Avogadro's number $(N_{AV} = 6.02 x10^{23}$ molec/ mol$)$, the concentration in molec / cm${^3}$ is obtained as\n",
    "\n",
    "\\begin{equation}\n",
    "n\\left(\\frac{molec}{cm^3}\\right) = \\frac{p_{HO_2}}{RT} \\cdot \\frac{N_{AV}}{1x10^6}\n",
    "\\end{equation}"
   ]
  },
  {
   "cell_type": "code",
   "execution_count": 1,
   "metadata": {},
   "outputs": [
    {
     "name": "stdout",
     "output_type": "stream",
     "text": [
      "10 ppt of HO2 = 2.12e+08 molec/cm3\n"
     ]
    }
   ],
   "source": [
    "#Constants\n",
    "xho2 = 10e-12\n",
    "p = 80000\n",
    "Nav = 6.02e23\n",
    "R = 8.314\n",
    "T = 273.15\n",
    "\n",
    "nho2 = (xho2*p)/(R*T)*(Nav)/1e6\n",
    "print(\"10 ppt of HO2 = %8.2e molec/cm3\" %(nho2))"
   ]
  },
  {
   "cell_type": "code",
   "execution_count": 2,
   "metadata": {},
   "outputs": [
    {
     "data": {
      "application/vnd.jupyter.widget-view+json": {
       "model_id": "89ad53e87b634284875a628f85fcaf42"
      }
     },
     "metadata": {},
     "output_type": "display_data"
    }
   ],
   "source": [
    "from ipywidgets import interact, interactive, interact_manual, FloatSlider\n",
    "from IPython.display import display\n",
    "import ipywidgets as widgets\n",
    "\n",
    "\n",
    "#Constants\n",
    "Nav = 6.02e23\n",
    "R = 8.314\n",
    "\n",
    "\n",
    "def molecvol(xho2 = 10, p = 800, T= 273.15):\n",
    "    nho2 = (xho2*1e-12*p*100)/(R*T)*(Nav)/1e6\n",
    "    print(\"%.2f ppt of HO2 at T of %.2f K and P of %.2f hPa = %8.2e molec/cm3\" %(xho2, T, p, nho2))\n",
    "    return\n",
    "\n",
    "\n",
    "w = interactive(molecvol,\n",
    "         xho2 = FloatSlider(value = 10, min = 1, max = 20, step = 1e-2, description = r'HO$_2$ (ppt)'),\n",
    "         p = FloatSlider(value = 800, min = 500, max = 1000, step = 1e-2, description = 'Pressure (hPa)'),\n",
    "         T= FloatSlider(value = 273.15, min=273.15, max=373.15, step=1e-2,description ='Temperature (K)'))\n",
    "\n",
    "display(w)"
   ]
  },
  {
   "cell_type": "code",
   "execution_count": null,
   "metadata": {
    "collapsed": true
   },
   "outputs": [],
   "source": []
  }
 ],
 "metadata": {
  "kernelspec": {
   "display_name": "Python 3",
   "language": "python",
   "name": "python3"
  },
  "language_info": {
   "codemirror_mode": {
    "name": "ipython",
    "version": 3
   },
   "file_extension": ".py",
   "mimetype": "text/x-python",
   "name": "python",
   "nbconvert_exporter": "python",
   "pygments_lexer": "ipython3",
   "version": "3.6.1"
  }
 },
 "nbformat": 4,
 "nbformat_minor": 2
}
